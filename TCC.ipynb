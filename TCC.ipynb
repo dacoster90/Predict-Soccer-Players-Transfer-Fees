{
 "cells": [
  {
   "cell_type": "code",
   "execution_count": null,
   "id": "bb6f6cf5",
   "metadata": {},
   "outputs": [],
   "source": [
    "# Importação de pacotes\n",
    "import re\n",
    "from sklearn.linear_model import LinearRegression\n",
    "from yellowbrick.regressor import ResidualsPlot\n",
    "import numpy as np\n",
    "import matplotlib.pyplot as plt\n",
    "import seaborn as sns\n",
    "import pandas as pd\n",
    "from scipy import stats\n",
    "from statistics import mode"
   ]
  },
  {
   "cell_type": "code",
   "execution_count": null,
   "id": "6832843d",
   "metadata": {},
   "outputs": [],
   "source": [
    "dataset_1 = pd.read_excel(\"D:\\Software Engineering\\TCC\\DATASET_2019_OFFICIAL.xlsx\" ,usecols = \"A,B,C,D,E,F,G,H,J,U,BF,BG,BH\")"
   ]
  },
  {
   "cell_type": "code",
   "execution_count": null,
   "id": "d91358d3-cdae-4314-a9e7-c46c92b098f1",
   "metadata": {},
   "outputs": [],
   "source": [
    "dataset_1.head()"
   ]
  },
  {
   "cell_type": "code",
   "execution_count": null,
   "id": "e84e11e1-0c8b-415d-8a2f-c52a2597d420",
   "metadata": {},
   "outputs": [],
   "source": [
    "# Tratamento do campo 'Fee'\n",
    "dataset_1 = dataset_1.loc[dataset_1.Fee.notnull()]  \n",
    "dataset_1.Fee = dataset_1.Fee.astype(int)  \n",
    "dataset_1.head()"
   ]
  },
  {
   "cell_type": "code",
   "execution_count": null,
   "id": "25e792c1-500c-4679-aa96-5594740f1dec",
   "metadata": {},
   "outputs": [],
   "source": [
    "# Tratamento do campo 'Value'\n",
    "for i in range (0, len(dataset_1.ID),1):       \n",
    "    dataset_1.iloc[i,7]=dataset_1.iloc[i,7][1:]    # Remover o símbolo'€'\n",
    "    if 'M' in dataset_1.iloc[i,7]:\n",
    "        dataset_1.iloc[i,7] = dataset_1.iloc[i,7].replace('M','')   # Remover a letra 'M'\n",
    "        if '.' in dataset_1.iloc[i,7]:\n",
    "            dataset_1.iloc[i,7] = dataset_1.iloc[i,7].replace('.','')\n",
    "            dataset_1.iloc[i,7] = dataset_1.iloc[i,7]+'00000'\n",
    "        else:\n",
    "            dataset_1.iloc[i,7] = dataset_1.iloc[i,7]+'000000'\n",
    "    else:\n",
    "        dataset_1.iloc[i,7] = dataset_1.iloc[i,7].replace('K','') # Remover a letra 'K'\n",
    "        dataset_1.iloc[i,7] = dataset_1.iloc[i,7]+'000'  \n",
    "        \n",
    "dataset_1.Value = dataset_1.Value.astype(int)  # Converter a coluna 'Fee' do tipo String para int     \n",
    "\n",
    "dataset_1.head()"
   ]
  },
  {
   "cell_type": "code",
   "execution_count": null,
   "id": "79757519-80af-49d7-9f8b-f501ad915be0",
   "metadata": {},
   "outputs": [],
   "source": [
    "# Identificar a moda do campo 'Contract Valid Until'\n",
    "moda = mode(dataset_1['Contract Valid Until'])\n",
    "moda"
   ]
  },
  {
   "cell_type": "code",
   "execution_count": null,
   "id": "3a0876c1-5229-4949-902d-19beb97b846d",
   "metadata": {},
   "outputs": [],
   "source": [
    "# Tratamento do campo 'Contract Valued Until'\n",
    "dataset_1['Contract Valid Until'].fillna(moda, inplace=True) # Tratar os campos sem valores (NaN/Na), usando a moda       \n",
    "\n",
    "for i in range (0, len(dataset_1.ID),1): \n",
    "    if (len(dataset_1.iloc[i,9]) > 4):         # Padronizar os campos (existem valores do tipo 'Jun 30, 2019')\n",
    "        dataset_1.iloc[i,9] = dataset_1.iloc[i,9][-4:]   \n",
    "\n",
    "dataset_1['Contract Valid Until'] = dataset_1['Contract Valid Until'].astype('category')   # Transformar valores categoricos em valores númericos\n",
    "dataset_1['Contract Valid Until'] = dataset_1['Contract Valid Until'].cat.codes\n",
    "\n",
    "dataset_1.head()"
   ]
  },
  {
   "cell_type": "code",
   "execution_count": null,
   "id": "f340a7f7",
   "metadata": {},
   "outputs": [],
   "source": [
    "# Tratamento do campo 'Best Position' - transformando valores categóricos em valores númericos\n",
    "dataset_1['Best Position'] = dataset_1['Best Position'].astype('category')\n",
    "dataset_1['Best Position'] = dataset_1['Best Position'].cat.codes\n",
    "dataset_1.head()"
   ]
  },
  {
   "cell_type": "code",
   "execution_count": null,
   "id": "04a1b478-7dc5-48d9-8096-25958694d4fa",
   "metadata": {},
   "outputs": [],
   "source": [
    "dataset_1.Overall.isnull().sum()"
   ]
  },
  {
   "cell_type": "code",
   "execution_count": null,
   "id": "768405e9-be79-4fcb-8b24-f79979998491",
   "metadata": {},
   "outputs": [],
   "source": [
    "dataset_1.Potential.isnull().sum()"
   ]
  },
  {
   "cell_type": "code",
   "execution_count": null,
   "id": "008870aa",
   "metadata": {},
   "outputs": [],
   "source": [
    "plt.figure(1)\n",
    "plt.subplot(2,4,1)    \n",
    "sns.distplot(dataset_1['Fee'])\n",
    "plt.ylabel('')\n",
    "plt.subplot(2,4,2)\n",
    "sns.distplot(dataset_1['Age'])\n",
    "plt.ylabel('')\n",
    "plt.subplot(2,4,3)\n",
    "sns.distplot(dataset_1['Value'])\n",
    "plt.ylabel('')\n",
    "plt.subplot(2,4,4)\n",
    "sns.distplot(dataset_1['Overall'])\n",
    "plt.ylabel('')\n",
    "plt.subplot(2,4,5)\n",
    "sns.distplot(dataset_1['Potential'])\n",
    "plt.ylabel('')\n",
    "plt.subplot(2,4,6)\n",
    "sns.distplot(dataset_1['Contract Valid Until'])\n",
    "plt.ylabel('')\n",
    "plt.subplot(2,4,7)\n",
    "sns.distplot(dataset_1['Best Position'])\n",
    "plt.ylabel('')\n",
    "\n",
    "plt.tight_layout(pad=1.0)"
   ]
  },
  {
   "cell_type": "code",
   "execution_count": null,
   "id": "0d1b90e0",
   "metadata": {},
   "outputs": [],
   "source": [
    "# Normalizar a variável 'Fee'\n",
    "fee = stats.boxcox(dataset_1.iloc[:,8])[0]\n",
    "sns.distplot(fee)\n",
    "\n",
    "Y = fee"
   ]
  },
  {
   "cell_type": "code",
   "execution_count": null,
   "id": "91a9d751",
   "metadata": {},
   "outputs": [],
   "source": [
    "# Normalizar a variável 'Value'\n",
    "dataset_1['Log_value'] = np.log10(dataset_1.iloc[:,7])\n",
    "sns.distplot(dataset_1.iloc[:,13])"
   ]
  },
  {
   "cell_type": "code",
   "execution_count": null,
   "id": "50095e79",
   "metadata": {},
   "outputs": [],
   "source": [
    "# Calcular a correlação entre as variáveis    \n",
    "\n",
    "# 1) Correlação entre 'Fee' e 'Age'\n",
    "X1 = dataset_1.iloc[:,2].values   # Definir a variável independente (X)\n",
    "correlacao_x1_y = np.corrcoef(X1,Y) # Calcular a correlação\n",
    "X1 = X1.reshape(-1,1)\n",
    "\n",
    "modelo = LinearRegression() # Criar o modelo\n",
    "modelo.fit(X1,Y) # Treinar o modelo\n",
    "modelo.intercept_ # Calcular a interceptação (b)\n",
    "modelo.coef_ # Caluclar o coeficiente (a)\n",
    "\n",
    "plt.scatter(X1,Y)\n",
    "plt.plot(X1, modelo.predict(X1), color = 'red') # plotar a linha de previsão\n",
    "plt.title('Correlação entre Fee e Age')\n",
    "plt.xlabel('Age')\n",
    "plt.ylabel('Fee')\n",
    "plt.savefig('fee_age.png')\n",
    "correlacao_x1_y"
   ]
  },
  {
   "cell_type": "code",
   "execution_count": null,
   "id": "81c6af7b-2d2b-47cd-b192-6c03335b958c",
   "metadata": {},
   "outputs": [],
   "source": [
    "# Coeficiente de determinação entre Fee e Age\n",
    "modelo.score(X1,Y)"
   ]
  },
  {
   "cell_type": "code",
   "execution_count": null,
   "id": "04470f29",
   "metadata": {},
   "outputs": [],
   "source": [
    "# 2) Correlação entre 'Fee' e 'Value'\n",
    "X2 = dataset_1.iloc[:,13].values  \n",
    "correlacao_x2_y = np.corrcoef(X2,Y)\n",
    "X2 = X2.reshape(-1,1)\n",
    "modelo = LinearRegression() # Create model\n",
    "modelo.fit(X2,Y)\n",
    "modelo.intercept_\n",
    "modelo.coef_\n",
    "plt.scatter(X2,Y)\n",
    "plt.plot(X2, modelo.predict(X2), color = 'red')\n",
    "plt.title('Correlação entre Fee e Value')\n",
    "plt.xlabel('Value')\n",
    "plt.ylabel('Fee')\n",
    "correlacao_x2_y "
   ]
  },
  {
   "cell_type": "code",
   "execution_count": null,
   "id": "cd959d86-224b-4216-940f-f384ce47b622",
   "metadata": {},
   "outputs": [],
   "source": [
    "# Coeficiente de determinação entre Fee e Value\n",
    "modelo.score(X2,Y)"
   ]
  },
  {
   "cell_type": "code",
   "execution_count": null,
   "id": "f433dc72",
   "metadata": {},
   "outputs": [],
   "source": [
    "# 3) Correlação entre 'Fee' e 'Overall'\n",
    "X3 = dataset_1.iloc[:,4].values   # Definir a variável independente (X)\n",
    "correlacao_x3_y = np.corrcoef(X3,Y)\n",
    "X3 = X3.reshape(-1,1)\n",
    "modelo = LinearRegression() # Create model\n",
    "modelo.fit(X3,Y)\n",
    "modelo.intercept_\n",
    "modelo.coef_\n",
    "plt.scatter(X3,Y)\n",
    "plt.plot(X3, modelo.predict(X3), color = 'red')\n",
    "plt.title('Correlação entre Fee e Overall')\n",
    "plt.xlabel('Overall')\n",
    "plt.ylabel('Fee')\n",
    "correlacao_x3_y "
   ]
  },
  {
   "cell_type": "code",
   "execution_count": null,
   "id": "e0abb3b4-960f-4d41-8a8b-ec1333a55379",
   "metadata": {},
   "outputs": [],
   "source": [
    "# Coeficiente de determinação entre Fee e Level\n",
    "modelo.score(X3,Y)"
   ]
  },
  {
   "cell_type": "code",
   "execution_count": null,
   "id": "288c0b4a",
   "metadata": {},
   "outputs": [],
   "source": [
    "# 4) Correlação entre 'Fee' e 'Potential'\n",
    "X4 = dataset_1.iloc[:,5].values   # Definir a variável independente (X)\n",
    "correlacao_x4_y = np.corrcoef(X4,Y)\n",
    "X4 = X4.reshape(-1,1)\n",
    "modelo = LinearRegression() # Create model\n",
    "modelo.fit(X4,Y)\n",
    "modelo.intercept_\n",
    "modelo.coef_\n",
    "plt.scatter(X4,Y)\n",
    "plt.plot(X4, modelo.predict(X4), color = 'red')\n",
    "plt.title('Correlação entre Fee e Potential')\n",
    "plt.xlabel('Potential')\n",
    "plt.ylabel('Fee')\n",
    "correlacao_x4_y "
   ]
  },
  {
   "cell_type": "code",
   "execution_count": null,
   "id": "ac665454-45f4-41da-be4e-603cac6dab95",
   "metadata": {},
   "outputs": [],
   "source": [
    "# Coeficiente de determinação entre Fee e Potential\n",
    "modelo.score(X4,Y)"
   ]
  },
  {
   "cell_type": "code",
   "execution_count": null,
   "id": "24345d99",
   "metadata": {},
   "outputs": [],
   "source": [
    "# 5) Correlação entre 'Fee' e 'Contract Valid Until'\n",
    "X5 = dataset_1.iloc[:,9].values   # Definir a variável independente (X)\n",
    "correlacao_x5_y = np.corrcoef(X5,Y)\n",
    "X5 = X5.reshape(-1,1)\n",
    "modelo = LinearRegression() # Create model\n",
    "modelo.fit(X5,Y)\n",
    "modelo.intercept_\n",
    "modelo.coef_\n",
    "plt.scatter(X5,Y)\n",
    "plt.plot(X5, modelo.predict(X5), color = 'red')\n",
    "plt.title('Correlação entre Fee e Contract Duration')\n",
    "plt.xlabel('Contract Valid Until')\n",
    "plt.ylabel('Fee')\n",
    "correlacao_x5_y "
   ]
  },
  {
   "cell_type": "code",
   "execution_count": null,
   "id": "f1c3c864-aa05-478b-8a34-f53fb4a25d34",
   "metadata": {},
   "outputs": [],
   "source": [
    "# Coeficiente de determinação entre Fee e Contract Duration\n",
    "modelo.score(X5,Y)"
   ]
  },
  {
   "cell_type": "code",
   "execution_count": null,
   "id": "fc3e7f1b",
   "metadata": {},
   "outputs": [],
   "source": [
    "# 6) Correlação entre 'Fee' e 'Best Position'\n",
    "dataset_1['Best Position'] = dataset_1['Best Position'].astype('category')   # Transformar valores categoricos em valores númericos\n",
    "dataset_1['Best Position'] = dataset_1['Best Position'].cat.codes\n",
    "\n",
    "X6 = dataset_1.iloc[:,10].values   # Definir a variável independente (X)\n",
    "correlacao_x6_y = np.corrcoef(X6,Y)\n",
    "X6 = X6.reshape(-1,1)\n",
    "modelo = LinearRegression() # Create model\n",
    "modelo.fit(X6,Y)\n",
    "modelo.intercept_\n",
    "modelo.coef_\n",
    "plt.scatter(X6,Y)\n",
    "plt.plot(X6, modelo.predict(X6), color = 'red')\n",
    "plt.title('Correlação entre Fee e Position')\n",
    "plt.xlabel('Position')\n",
    "plt.ylabel('Fee')\n",
    "correlacao_x6_y "
   ]
  },
  {
   "cell_type": "code",
   "execution_count": null,
   "id": "dec02a24-2f1a-46fe-8157-d5b05b2ebacf",
   "metadata": {},
   "outputs": [],
   "source": [
    "# Coeficiente de determinação entre Fee e Position\n",
    "modelo.score(X6,Y)"
   ]
  },
  {
   "cell_type": "code",
   "execution_count": null,
   "id": "5c696379-3492-49e6-9eaf-57df96c04c33",
   "metadata": {},
   "outputs": [],
   "source": [
    "# Regressão Linear Múltipla - 3 variáveis\n",
    "X = dataset_1[['Value', 'Overall','Potential']]\n",
    "Y = dataset_1['Fee']\n",
    "modelo = LinearRegression()\n",
    "modelo.fit(X,Y)\n",
    "modelo.coef_"
   ]
  },
  {
   "cell_type": "code",
   "execution_count": null,
   "id": "1267fbf0-1758-4c9c-ac91-15b39e520042",
   "metadata": {},
   "outputs": [],
   "source": [
    "dataset_2 = dataset_1[['Name', 'Overall','Potential','Value', 'Fee']]\n",
    "dataset_2['previsoes'] = 0"
   ]
  },
  {
   "cell_type": "code",
   "execution_count": null,
   "id": "f8498688-fed2-44dd-81f3-3bb3b8eb8c83",
   "metadata": {},
   "outputs": [],
   "source": [
    "dataset_2 = dataset_1[['Name', 'Overall','Potential','Age','Value', 'Fee']]\n",
    "dataset_2['prev_1'] = 0  # Coluna para Regressão multipla das variáveis Fee, Value, Overall e Potential. \n",
    "dataset_2['prev_2'] = 0  # Coluna para Regressão multipla das variáveis Fee, Value, Overall, Potential e Age.\n",
    "dataset_2['prev_3'] = 0  # Coluna para Regressão multipla das variáveis Fee, Value, Overall, Potential, Age e Contract Valid Until.\n",
    "dataset_2['prev_4'] = 0  # Coluna para Regressão multipla das variáveis Fee, Value, Overall, Potential,  Age, Contract Valid Until e Position."
   ]
  },
  {
   "cell_type": "code",
   "execution_count": null,
   "id": "4c316de4-c46f-42e6-bc7c-230ceeea1eec",
   "metadata": {},
   "outputs": [],
   "source": [
    "a = 0\n",
    "while (a<len(dataset_1['ID'])):\n",
    "    value = dataset_1.iloc[a,7]\n",
    "    log_value = dataset_1.iloc[a,13]\n",
    "    overall = dataset_1.iloc[a,4]\n",
    "    potential = dataset_1.iloc[a,5]\n",
    "    age = dataset_1.iloc[a,2]\n",
    "    contract = dataset_1.iloc[a,9]\n",
    "    position = dataset_1.iloc[a,10]\n",
    "    ##################################\n",
    "    # Regressão Linear Múltipla - 3 variáveis        -  com coluna Value  [prev_1]\n",
    "    X = dataset_1[['Value', 'Overall','Potential']]\n",
    "    Y = dataset_1['Fee']\n",
    "    modelo = LinearRegression()\n",
    "    modelo.fit(X,Y)\n",
    "    modelo.coef_\n",
    "    # Fazer previsões usando Regressão Linear Múltipla\n",
    "    prev = np.array([value,overall,potential])\n",
    "    prev = prev.reshape(1,-1)\n",
    "    result = int(modelo.predict(prev))\n",
    "    dataset_2.iloc[a,6] = result\n",
    "    ##################################\n",
    "    # Regressão Linear Múltipla - 4 variáveis - com coluna Log_value [prev_3]\n",
    "    X = dataset_1[['Value', 'Overall','Potential','Age']]\n",
    "    modelo = LinearRegression()\n",
    "    modelo.fit(X,Y)\n",
    "    modelo.coef_\n",
    "    prev = np.array([value,overall,potential, age]) # prever o fee usando dois valores, value (x1) e overall (x2) e potential (x3)\n",
    "    prev = prev.reshape(1,-1)\n",
    "    result = int(modelo.predict(prev))\n",
    "    dataset_2.iloc[a,7] = result\n",
    "    ##################################\n",
    "    # Regressão Linear Múltipla - 5 variáveis - com coluna Log_value [prev_4]\n",
    "    X = dataset_1[['Value', 'Overall','Potential','Age', 'Contract Valid Until']]\n",
    "    modelo = LinearRegression()\n",
    "    modelo.fit(X,Y)\n",
    "    modelo.coef_\n",
    "    prev = np.array([value,overall,potential, age, contract]) # prever o fee usando dois valores, value (x1) e overall (x2) e potential (x3)\n",
    "    prev = prev.reshape(1,-1)\n",
    "    result = int(modelo.predict(prev))\n",
    "    dataset_2.iloc[a,8] = result\n",
    "    ##################################\n",
    "    # Regressão Linear Múltipla - 6 variáveis - com coluna Log_value [prev_5]    \n",
    "    X = dataset_1[['Value', 'Overall','Potential','Age', 'Contract Valid Until','Best Position']]\n",
    "    modelo = LinearRegression()\n",
    "    modelo.fit(X,Y)\n",
    "    modelo.coef_\n",
    "    prev = np.array([value,overall,potential, age, contract, position]) # prever o fee usando dois valores, value (x1) e overall (x2) e potential (x3)\n",
    "    prev = prev.reshape(1,-1)\n",
    "    result = int(modelo.predict(prev))\n",
    "    dataset_2.iloc[a,9] = result\n",
    "    a+=1"
   ]
  },
  {
   "cell_type": "code",
   "execution_count": null,
   "id": "f3715796-6d90-4dcd-8160-f3cf380306e0",
   "metadata": {},
   "outputs": [],
   "source": [
    "dataset_2.to_excel('dataset2.xlsx')"
   ]
  },
  {
   "cell_type": "code",
   "execution_count": null,
   "id": "f64012aa-59f4-4b07-b2a0-260193a50e83",
   "metadata": {},
   "outputs": [],
   "source": [
    "# Create model again with 3 variables\n",
    "X = dataset_1[['Value','Overall','Potential']]\n",
    "Y = dataset_1['Fee']\n",
    "modelo = LinearRegression()\n",
    "modelo.fit(X,Y)\n",
    "modelo.coef_"
   ]
  },
  {
   "cell_type": "code",
   "execution_count": null,
   "id": "108124f3-b931-424f-b784-892db7264d2e",
   "metadata": {},
   "outputs": [],
   "source": [
    "# User Input\n",
    "valor = float(input(\"Insere o valor do jogador: \"))\n",
    "nivel = int(input(\"Insere o nível do jogador (dois digitos): \"))\n",
    "potencial = int(input(\"Insere o potencial do jogador (dois digitos): \"))\n",
    "\n",
    "prev = np.array([valor,nivel,potencial]) # prever o fee usando dois valores, value (x1) e overall (x2) e potential (x3)\n",
    "prev = prev.reshape(1,-1)\n",
    "preco = modelo.predict(prev)\n",
    "int(preco)\n",
    "print('O valor estimado do jogador: ', int(preco))"
   ]
  }
 ],
 "metadata": {
  "kernelspec": {
   "display_name": "Python 3",
   "language": "python",
   "name": "python3"
  },
  "language_info": {
   "codemirror_mode": {
    "name": "ipython",
    "version": 3
   },
   "file_extension": ".py",
   "mimetype": "text/x-python",
   "name": "python",
   "nbconvert_exporter": "python",
   "pygments_lexer": "ipython3",
   "version": "3.8.3"
  }
 },
 "nbformat": 4,
 "nbformat_minor": 5
}
